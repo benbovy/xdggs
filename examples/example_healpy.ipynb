{
 "cells": [
  {
   "cell_type": "code",
   "execution_count": null,
   "id": "d89cc742-1fbd-4c44-ba0f-83f8b697a318",
   "metadata": {},
   "outputs": [],
   "source": [
    "import xarray as xr\n",
    "import xdggs"
   ]
  },
  {
   "cell_type": "markdown",
   "id": "55aeb8cc-9ad4-40d7-a918-b86c9c7688ab",
   "metadata": {},
   "source": [
    "Download the dataset here: https://zenodo.org/records/10075001"
   ]
  },
  {
   "cell_type": "code",
   "execution_count": null,
   "id": "dbf580e5-324a-4504-939a-144abf71575a",
   "metadata": {},
   "outputs": [],
   "source": [
    "ds = xr.open_dataset(\"data/healpix_nolotation.nc\")\n",
    "\n",
    "ds = (\n",
    "    ds.load()\n",
    "    .drop_vars([\"latitude\", \"longitude\"])\n",
    "    .stack(cell=[\"x\", \"y\"], create_index=False)\n",
    ")\n",
    "\n",
    "ds.cell_ids.attrs = {\n",
    "    \"grid_name\": \"healpix\",\n",
    "    \"nside\": 4096,\n",
    "    \"nest\": True,\n",
    "}\n",
    "\n",
    "ds"
   ]
  },
  {
   "cell_type": "code",
   "execution_count": null,
   "id": "00ea9d06-61ff-436e-a0bd-2ae03930906b",
   "metadata": {},
   "outputs": [],
   "source": [
    "ds_idx = ds.set_xindex(\"cell_ids\", xdggs.DGGSIndex)\n",
    "\n",
    "ds_idx"
   ]
  },
  {
   "cell_type": "markdown",
   "id": "92ae2b2d-e5a0-4762-bb6b-9c22334d77dd",
   "metadata": {},
   "source": [
    "## properties"
   ]
  },
  {
   "cell_type": "markdown",
   "id": "8dbea6f2-ac19-4f84-b57d-e74520ef377a",
   "metadata": {},
   "source": [
    "cell boundaries"
   ]
  },
  {
   "cell_type": "code",
   "execution_count": null,
   "id": "98102502-aca1-44a2-b8c7-035d0c65a50f",
   "metadata": {},
   "outputs": [],
   "source": [
    "cell_boundaries = ds_idx.dggs.cell_boundaries\n",
    "cell_boundaries"
   ]
  },
  {
   "cell_type": "code",
   "execution_count": null,
   "id": "0b7a340a-e29b-42cd-b9cd-098fe1a29d20",
   "metadata": {},
   "outputs": [],
   "source": [
    "import geopandas as gpd"
   ]
  },
  {
   "cell_type": "code",
   "execution_count": null,
   "id": "c22c2b85-d018-4b6b-bde1-65cdd4921093",
   "metadata": {},
   "outputs": [],
   "source": [
    "df = (\n",
    "    cell_boundaries.to_dataset(name=\"geometry\")\n",
    "    .to_pandas()\n",
    "    .set_geometry(\"geometry\", crs=4326)\n",
    "    .set_index(\"cell_ids\")\n",
    ")\n",
    "df"
   ]
  },
  {
   "cell_type": "code",
   "execution_count": null,
   "id": "28278de9-ec6b-40ec-9014-63f60191e0f0",
   "metadata": {},
   "outputs": [],
   "source": [
    "df.explore(tiles=\"OpenStreetMap\")"
   ]
  },
  {
   "cell_type": "markdown",
   "id": "b9de1f6b-bd9a-4b09-a74b-9d3fb2178700",
   "metadata": {},
   "source": [
    "## selection"
   ]
  },
  {
   "cell_type": "markdown",
   "id": "9a4d76aa-a177-41e2-9c72-1f59bf5249fd",
   "metadata": {},
   "source": [
    "by cell id"
   ]
  },
  {
   "cell_type": "code",
   "execution_count": null,
   "id": "7daf589b-e96f-40c4-8a86-b4ee7dda1102",
   "metadata": {},
   "outputs": [],
   "source": [
    "ds_idx.sel(cell_ids=[11320973, 11320975])"
   ]
  },
  {
   "cell_type": "markdown",
   "id": "e11ff171-b113-4e29-9589-027f9fc51544",
   "metadata": {},
   "source": [
    "by lat / lon coordinates"
   ]
  },
  {
   "cell_type": "code",
   "execution_count": null,
   "id": "396872d5-c76b-4768-a707-c39347d657f8",
   "metadata": {},
   "outputs": [],
   "source": [
    "ds_idx.dggs.sel_latlon([48.0, 48.1], -5.0)"
   ]
  },
  {
   "cell_type": "markdown",
   "id": "efcd19cc-e09e-4075-999e-dc8b71fd564c",
   "metadata": {},
   "source": [
    "## assignment"
   ]
  },
  {
   "cell_type": "code",
   "execution_count": null,
   "id": "86959d2d-9316-4711-a765-c33b60315adf",
   "metadata": {},
   "outputs": [],
   "source": [
    "ds2 = ds_idx.dggs.assign_latlon_coords()\n",
    "ds2"
   ]
  },
  {
   "cell_type": "code",
   "execution_count": null,
   "id": "96d7663d-6592-4c4b-8657-0071a1e1754c",
   "metadata": {},
   "outputs": [],
   "source": [
    "result = ds_idx.dggs.sel_latlon(ds2.latitude, ds2.longitude)\n",
    "result"
   ]
  },
  {
   "cell_type": "code",
   "execution_count": null,
   "id": "144fdb06-1aa7-41fb-a166-ee49c9ef2aba",
   "metadata": {},
   "outputs": [],
   "source": [
    "xr.testing.assert_equal(result.drop_vars([\"latitude\", \"longitude\"]), ds)"
   ]
  }
 ],
 "metadata": {
  "language_info": {
   "codemirror_mode": {
    "name": "ipython",
    "version": 3
   },
   "file_extension": ".py",
   "mimetype": "text/x-python",
   "name": "python",
   "nbconvert_exporter": "python",
   "pygments_lexer": "ipython3",
   "version": "3.11.6"
  }
 },
 "nbformat": 4,
 "nbformat_minor": 5
}
