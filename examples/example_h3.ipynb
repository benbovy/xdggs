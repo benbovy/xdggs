{
 "cells": [
  {
   "cell_type": "code",
   "execution_count": null,
   "id": "d89cc742-1fbd-4c44-ba0f-83f8b697a318",
   "metadata": {},
   "outputs": [],
   "source": [
    "import numpy as np\n",
    "import xarray as xr\n",
    "\n",
    "import xdggs"
   ]
  },
  {
   "cell_type": "code",
   "execution_count": null,
   "id": "dbf580e5-324a-4504-939a-144abf71575a",
   "metadata": {},
   "outputs": [],
   "source": [
    "ds = xr.open_dataset(\"data/h3_example.nc\")\n",
    "ds = ds"
   ]
  },
  {
   "cell_type": "code",
   "execution_count": null,
   "id": "00ea9d06-61ff-436e-a0bd-2ae03930906b",
   "metadata": {},
   "outputs": [],
   "source": [
    "ds_idx = ds.drop_indexes(\"cell\").set_xindex(\"cell\", xdggs.DGGSIndex)\n",
    "\n",
    "ds_idx"
   ]
  },
  {
   "cell_type": "code",
   "execution_count": null,
   "id": "396872d5-c76b-4768-a707-c39347d657f8",
   "metadata": {},
   "outputs": [],
   "source": [
    "ds_idx.dggs.sel_latlon(np.array([37.0, 37.5]), np.array([299.3, 299.5]))"
   ]
  },
  {
   "cell_type": "code",
   "execution_count": null,
   "id": "86959d2d-9316-4711-a765-c33b60315adf",
   "metadata": {},
   "outputs": [],
   "source": [
    "ds2 = ds_idx.dggs.assign_latlon_coords()\n",
    "ds2"
   ]
  },
  {
   "cell_type": "code",
   "execution_count": null,
   "id": "96d7663d-6592-4c4b-8657-0071a1e1754c",
   "metadata": {},
   "outputs": [],
   "source": [
    "result = ds_idx.dggs.sel_latlon(ds2.latitude.data, ds2.longitude.data)\n",
    "result"
   ]
  },
  {
   "cell_type": "code",
   "execution_count": null,
   "id": "144fdb06-1aa7-41fb-a166-ee49c9ef2aba",
   "metadata": {},
   "outputs": [],
   "source": [
    "xr.testing.assert_equal(result, ds)"
   ]
  }
 ],
 "metadata": {
  "language_info": {
   "codemirror_mode": {
    "name": "ipython",
    "version": 3
   },
   "file_extension": ".py",
   "mimetype": "text/x-python",
   "name": "python",
   "nbconvert_exporter": "python",
   "pygments_lexer": "ipython3",
   "version": "3.11.6"
  }
 },
 "nbformat": 4,
 "nbformat_minor": 5
}
